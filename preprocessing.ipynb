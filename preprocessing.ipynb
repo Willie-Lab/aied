{
 "cells": [
  {
   "cell_type": "markdown",
   "metadata": {},
   "source": [
    "---\n",
    "---\n",
    "\n",
    "# iEEG PREPROCESSING PIPELINE\n",
    "### Dartmouth ECoG Lab \n",
    "#### version 1 (2021)\n",
    "\n",
    "---\n",
    "---"
   ]
  },
  {
   "cell_type": "code",
   "execution_count": 1,
   "metadata": {},
   "outputs": [],
   "source": [
    "### libraries\n",
    "import pandas as pd\n",
    "import mne\n",
    "import numpy as np\n",
    "import matplotlib as mpl\n",
    "mpl.use('TkAgg')\n",
    "import matplotlib.pyplot as plt\n",
    "from mne import io, read_proj, read_selection\n",
    "from mne.datasets import sample\n",
    "from mne.time_frequency import psd_multitaper\n",
    "import re \n",
    "from scipy import stats\n",
    "from time import time\n",
    "%matplotlib inline\n",
    "import warnings\n",
    "warnings.filterwarnings('ignore')\n"
   ]
  },
  {
   "cell_type": "code",
   "execution_count": 16,
   "metadata": {},
   "outputs": [
    {
     "name": "stdout",
     "output_type": "stream",
     "text": [
      "Data type: <class 'mne.io.edf.edf.RawEDF'>\n",
      "\n",
      "<RawEDF  |  sampledata.EDF, n_channels x n_times : 276 x 2469312 (4822.9 sec), ~5.08 GB, data loaded>\n",
      "\n",
      "Sample rate: 512.0 Hz\n",
      "Size of the matrix: (276, 2469312)\n",
      "\n"
     ]
    }
   ],
   "source": [
    "### 1. LOAD DATA:\n",
    "\n",
    "# Load iEEG file\n",
    "subject = \"tester1\" ################################################## CHANGE: SUBJECT NAME USED FOR EXPORT\n",
    "pathEDF = './sampledata.EDF' ######################################### CHANGE: FILE PATH/NAME \n",
    "raw = mne.io.read_raw_edf(pathEDF, preload=True)\n",
    "mne.set_log_level(\"WARNING\")\n",
    "\n",
    "# iEEG file info:\n",
    "print('Data type: {}\\n\\n{}\\n'.format(type(raw), raw))\n",
    "print('Sample rate:', raw.info['sfreq'], 'Hz') # Get the sample rate\n",
    "print('Size of the matrix: {}\\n'.format(raw.get_data().shape)) # Get the size of the matrix\n",
    "# print(raw.info) # VIEW INFO SUMMARY OF EEG DATA\n",
    "# print('The actual data is just a matrix array!\\n\\n {}\\n'.format(raw.get_data()))\n"
   ]
  },
  {
   "cell_type": "code",
   "execution_count": 17,
   "metadata": {},
   "outputs": [
    {
     "name": "stdout",
     "output_type": "stream",
     "text": [
      "Original sampling rate: 512.0 Hz\n",
      "New sampling rate: 200.0 Hz\n",
      "iteration 0 : total bads: 3\n",
      "iteration 1 : total bads: 7\n",
      "iteration 2 : total bads: 10\n",
      "iteration 3 : total bads: 12\n",
      "iteration 4 : total bads: 14\n",
      "iteration 5 : total bads: 16\n",
      "iteration 6 : total bads: 16\n",
      "NUMBER OF CHANNELS FOR SUBJECT tester1: 202\n"
     ]
    }
   ],
   "source": [
    "### 2. CLEAN DATA:\n",
    "\n",
    "def cleaner(raw):\n",
    "    \"\"\"\n",
    "    iEEG PREPROCESSING PIPELINE\n",
    "    INPUT: RAW iEEG (MNE)\n",
    "    OUTPUT: CLEANED iEEG ('picks')\n",
    "    # note: resampling should already be based on a filtered signal!\n",
    "    # (i.e., first filtering, then down sampling)\n",
    "    \"\"\"\n",
    "    ### 1. rereference data (average rereference)\n",
    "    raw.set_eeg_reference('average', projection=True)\n",
    "    # raw.plot_psd(area_mode='range', tmax=10.0) # visual verification\n",
    "    print('Original sampling rate:', raw.info['sfreq'], 'Hz')\n",
    "\n",
    "    ### 2. notch filter\n",
    "    raw = raw.notch_filter(np.arange(60, int(raw.info['sfreq']/2)-1, 60), filter_length='auto', phase='zero') # 60, 241, 60\n",
    "    # raw.plot_psd(tmin=tmin, tmax=tmax, fmin=fmin, fmax=fmax, n_fft=n_fft,\n",
    "    #              n_jobs=1, proj=True, ax=ax, color=(1, 0, 0), picks=picks) # visual verification\n",
    "\n",
    "    ### 3. other filters \n",
    "    # low pass filter (250Hz)\n",
    "    raw = raw.filter(None, 250., h_trans_bandwidth='auto', filter_length='auto', phase='zero')\n",
    "    # high pass filter (1Hz) - remove slow drifts\n",
    "    raw = raw.filter(1., None, l_trans_bandwidth='auto', filter_length='auto', phase='zero')\n",
    "    # raw.plot_psd(area_mode='range', tmax=10.0) # visual verification\n",
    "\n",
    "    ### 4. downsampling (200Hz)\n",
    "    raw = raw.resample(200, npad='auto')\n",
    "    print('New sampling rate:', raw.info['sfreq'], 'Hz')\n",
    "    \n",
    "    ### 5. reject bad channels\n",
    "    def check_bads_adaptive(raw, picks, fun=np.var, thresh=3, max_iter=np.inf):\n",
    "        ch_x = fun(raw[picks, :][0], axis=-1)\n",
    "        my_mask = np.zeros(len(ch_x), dtype=np.bool)\n",
    "        i_iter = 0\n",
    "        while i_iter < max_iter:\n",
    "            ch_x = np.ma.masked_array(ch_x, my_mask)\n",
    "            this_z = stats.zscore(ch_x)\n",
    "            local_bad = np.abs(this_z) > thresh\n",
    "            my_mask = np.max([my_mask, local_bad], 0)\n",
    "            print('iteration %i : total bads: %i' % (i_iter, sum(my_mask)))        \n",
    "            if not np.any(local_bad): \n",
    "                break\n",
    "            i_iter += 1\n",
    "        bad_chs = [raw.ch_names[i] for i in np.where(ch_x.mask)[0]]\n",
    "        return (bad_chs)\n",
    "    # Find the first index of the super-bad channels\n",
    "    endIndex = 1\n",
    "    for i, name in enumerate(raw.info['ch_names']): # can add new logic to reject other channels that are definitely bad\n",
    "        if len(re.compile(r'C\\d{3}').findall(name)) > 0:\n",
    "            endIndex = i\n",
    "            break\n",
    "    bad_chs = raw.ch_names[endIndex:]\n",
    "    bad_chs.extend(check_bads_adaptive(raw, list(range(0,endIndex)), thresh=3)) \n",
    "    raw.info['bads'] = bad_chs\n",
    "    #     print(bad_chs)\n",
    "    #     print(len(raw.info['bads'])) # check which channels are marked as bad\n",
    "    ### PICK ONLY GOOD CHANNELS:\n",
    "    picks = raw.pick_types(eeg = True, meg = False, exclude = 'bads')\n",
    "    print(\"NUMBER OF CHANNELS FOR SUBJECT {}: {}\".format(subject,len(picks.info['chs'])))\n",
    "    #     print(\"THIS SHOULD BE 0: {}\".format(len(picks.info['bads'])) ) # check statement\n",
    "    \n",
    "    return (picks)\n",
    "\n",
    "picks = cleaner(raw)\n"
   ]
  },
  {
   "cell_type": "code",
   "execution_count": 4,
   "metadata": {},
   "outputs": [],
   "source": [
    "### EXPORT DATA:\n",
    "# export picks as .csv \n",
    "header = ','.join(picks.ch_names)\n",
    "np.savetxt('./'+subject+'_eegdata.csv', picks.get_data().T, delimiter=',', header=header) ### ---> spike detection\n"
   ]
  },
  {
   "cell_type": "markdown",
   "metadata": {},
   "source": [
    "# END"
   ]
  }
 ],
 "metadata": {
  "kernelspec": {
   "display_name": "Python 3",
   "language": "python",
   "name": "python3"
  },
  "language_info": {
   "codemirror_mode": {
    "name": "ipython",
    "version": 3
   },
   "file_extension": ".py",
   "mimetype": "text/x-python",
   "name": "python",
   "nbconvert_exporter": "python",
   "pygments_lexer": "ipython3",
   "version": "3.7.1"
  }
 },
 "nbformat": 4,
 "nbformat_minor": 4
}
